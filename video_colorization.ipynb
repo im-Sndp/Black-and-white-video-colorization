{
  "nbformat": 4,
  "nbformat_minor": 0,
  "metadata": {
    "colab": {
      "name": "Untitled38.ipynb",
      "provenance": []
    },
    "kernelspec": {
      "name": "python3",
      "display_name": "Python 3"
    },
    "accelerator": "GPU"
  },
  "cells": [
    {
      "cell_type": "code",
      "metadata": {
        "id": "MeLSRbOLTJ1x",
        "colab_type": "code",
        "colab": {}
      },
      "source": [
        "import cv2\n",
        "import numpy as np\n",
        "import sys"
      ],
      "execution_count": 0,
      "outputs": []
    },
    {
      "cell_type": "code",
      "metadata": {
        "id": "CAyFjiL1T9yG",
        "colab_type": "code",
        "outputId": "c42a40ac-1e64-4653-d4e8-d2ad3a9c2f8d",
        "colab": {
          "base_uri": "https://localhost:8080/",
          "height": 35
        }
      },
      "source": [
        "video_path = '/content/colorizer/video.mp4'\n",
        "print(video_path)\n",
        "cap = cv2.VideoCapture(video_path)"
      ],
      "execution_count": 0,
      "outputs": [
        {
          "output_type": "stream",
          "text": [
            "/content/colorizer/video.mp4\n"
          ],
          "name": "stdout"
        }
      ]
    },
    {
      "cell_type": "code",
      "metadata": {
        "id": "zk9rCnbwVQJi",
        "colab_type": "code",
        "colab": {}
      },
      "source": [
        "if not cap.isOpened():\n",
        "  print('NOT OPENED')"
      ],
      "execution_count": 0,
      "outputs": []
    },
    {
      "cell_type": "code",
      "metadata": {
        "id": "9RIjLmMkXAkX",
        "colab_type": "code",
        "outputId": "ef5e1b99-8f81-49da-9ee4-f5523423a81d",
        "colab": {
          "base_uri": "https://localhost:8080/",
          "height": 35
        }
      },
      "source": [
        "cd /content/colorizer"
      ],
      "execution_count": 0,
      "outputs": [
        {
          "output_type": "stream",
          "text": [
            "/content/colorizer\n"
          ],
          "name": "stdout"
        }
      ]
    },
    {
      "cell_type": "code",
      "metadata": {
        "id": "gyOw_MCwWXNl",
        "colab_type": "code",
        "outputId": "9bb4dc33-b996-4982-caae-92c5c9019aa3",
        "colab": {
          "base_uri": "https://localhost:8080/",
          "height": 17
        }
      },
      "source": [
        "# initialize writing video\n",
        "output_size = (\n",
        "  640,\n",
        "  int(cap.get(cv2.CAP_PROP_FRAME_HEIGHT) * 640 / cap.get(cv2.CAP_PROP_FRAME_WIDTH))\n",
        ")\n",
        "fourcc = cv2.VideoWriter_fourcc('m', 'p', '4', 'v')\n",
        "out = cv2.VideoWriter('%s_output.mp4' % (video_path.split('.')[0]), fourcc, cap.get(cv2.CAP_PROP_FPS), output_size)\n",
        "\n",
        "n_frames = cap.get(cv2.CAP_PROP_FRAME_COUNT)\n",
        "\n",
        "proto = './models/colorization_deploy_v2.prototxt'\n",
        "weights = './models/colorization_release_v2.caffemodel'\n",
        "# weights = './models/colorization_release_v2_norebal.caffemodel'\n",
        "# load cluster centers\n",
        "pts_in_hull = np.load('./models/pts_in_hull.npy')\n",
        "pts_in_hull = pts_in_hull.transpose().reshape(2, 313, 1, 1).astype(np.float32)\n",
        "\n",
        "# load model\n",
        "net = cv2.dnn.readNetFromCaffe(proto, weights)\n",
        "# net.getLayerNames()\n",
        "\n",
        "# populate cluster centers as 1x1 convolution kernel\n",
        "net.getLayer(net.getLayerId('class8_ab')).blobs = [pts_in_hull]\n",
        "net.getLayer(net.getLayerId('conv8_313_rh')).blobs = [np.full((1, 313), 2.606, np.float32)]\n",
        "\n",
        "skipping = False\n",
        "\n",
        "while True:\n",
        "  ret, img = cap.read()\n",
        "\n",
        "  if not ret:\n",
        "    break\n",
        "\n",
        "  img = cv2.resize(img, output_size)\n",
        "\n",
        "  pred_bgr = img.copy()\n",
        "  img_ori = img.copy()\n",
        "\n",
        "  # normalize input\n",
        "  img_ori = cv2.cvtColor(img_ori, cv2.COLOR_BGR2GRAY)\n",
        "  # img_ori = cv2.equalizeHist(img_ori)\n",
        "  # clahe = cv2.createCLAHE(clipLimit=1.0, tileGridSize=(8, 8))\n",
        "  # img_ori = clahe.apply(img_ori)\n",
        "  img_ori = cv2.cvtColor(img_ori, cv2.COLOR_GRAY2RGB)\n",
        "\n",
        "  if not skipping:\n",
        "    img_ori = (img_ori / 255.).astype(np.float32)\n",
        "\n",
        "    # convert RGB to LAB\n",
        "    img_lab = cv2.cvtColor(img_ori, cv2.COLOR_RGB2Lab)\n",
        "    # only L channel to be used\n",
        "    img_l = img_lab[:, :, 0]\n",
        "\n",
        "    input_img = cv2.resize(img_l, (224, 224))\n",
        "    input_img -= 50 # subtract 50 for mean-centering\n",
        "\n",
        "    # prediction\n",
        "    net.setInput(cv2.dnn.blobFromImage(input_img))\n",
        "\n",
        "    pred = net.forward()[0,:,:,:].transpose((1, 2, 0))\n",
        "\n",
        "    # resize to original image shape\n",
        "    pred_resize = cv2.resize(pred, (img.shape[1], img.shape[0]))\n",
        "\n",
        "    # concatenate with original image L\n",
        "    pred_lab = np.concatenate([img_l[:, :, np.newaxis], pred_resize], axis=2)\n",
        "\n",
        "    # convert LAB to RGB\n",
        "    pred_bgr = cv2.cvtColor(pred_lab, cv2.COLOR_Lab2BGR)\n",
        "    pred_bgr = np.clip(pred_bgr, 0, 1) * 255\n",
        "    pred_bgr = pred_bgr.astype(np.uint8)\n",
        "\n",
        "  # visualize\n",
        "  #cv2.imshow('img_ori', img_ori)\n",
        "  #cv2.imshow('pred_bgr', pred_bgr)\n",
        "  out.write(pred_bgr)\n",
        "\n",
        "  key = cv2.waitKey(1)\n",
        "  if key == ord('q'):\n",
        "    break\n",
        "  elif key == ord('s'):\n",
        "    skipping = not skipping\n",
        "\n",
        "  print('%s/%s' % (cap.get(cv2.CAP_PROP_POS_FRAMES), n_frames), end='\\r')\n",
        "\n",
        "cap.release()\n",
        "out.release()\n",
        "cv2.destroyAllWindows()\n"
      ],
      "execution_count": 0,
      "outputs": [
        {
          "output_type": "stream",
          "text": [
            ""
          ],
          "name": "stdout"
        }
      ]
    },
    {
      "cell_type": "code",
      "metadata": {
        "id": "ymppJ2OdW0jk",
        "colab_type": "code",
        "colab": {}
      },
      "source": [
        ""
      ],
      "execution_count": 0,
      "outputs": []
    }
  ]
}